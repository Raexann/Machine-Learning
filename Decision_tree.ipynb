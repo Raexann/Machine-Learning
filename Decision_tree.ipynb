{
  "nbformat": 4,
  "nbformat_minor": 0,
  "metadata": {
    "colab": {
      "provenance": [],
      "authorship_tag": "ABX9TyNtBkWRSma6TeH1GAZDqmSF",
      "include_colab_link": true
    },
    "kernelspec": {
      "name": "python3",
      "display_name": "Python 3"
    },
    "language_info": {
      "name": "python"
    }
  },
  "cells": [
    {
      "cell_type": "markdown",
      "metadata": {
        "id": "view-in-github",
        "colab_type": "text"
      },
      "source": [
        "<a href=\"https://colab.research.google.com/github/Raexann/Machine-Learning/blob/main/Decision_tree.ipynb\" target=\"_parent\"><img src=\"https://colab.research.google.com/assets/colab-badge.svg\" alt=\"Open In Colab\"/></a>"
      ]
    },
    {
      "cell_type": "code",
      "execution_count": 1,
      "metadata": {
        "id": "LVgT2wcgd58b"
      },
      "outputs": [],
      "source": [
        "import pandas as pd"
      ]
    },
    {
      "cell_type": "code",
      "source": [
        "data=pd.read_csv(\"/content/patient_data.csv\")"
      ],
      "metadata": {
        "id": "EHYlFQFYeP0o"
      },
      "execution_count": 2,
      "outputs": []
    },
    {
      "cell_type": "code",
      "source": [
        "data.info()"
      ],
      "metadata": {
        "colab": {
          "base_uri": "https://localhost:8080/"
        },
        "id": "QsxbGiGfeWXZ",
        "outputId": "a4037ca8-3eb0-47dc-bbf3-dbb78354ab78"
      },
      "execution_count": 3,
      "outputs": [
        {
          "output_type": "stream",
          "name": "stdout",
          "text": [
            "<class 'pandas.core.frame.DataFrame'>\n",
            "RangeIndex: 22 entries, 0 to 21\n",
            "Data columns (total 14 columns):\n",
            " #   Column                      Non-Null Count  Dtype \n",
            "---  ------                      --------------  ----- \n",
            " 0   Age                         22 non-null     int64 \n",
            " 1   Gender                      22 non-null     object\n",
            " 2   Ethnicity                   22 non-null     object\n",
            " 3   BMI                         22 non-null     int64 \n",
            " 4   Blood Pressure (systolic)   22 non-null     int64 \n",
            " 5   Blood Pressure (diastolic)  22 non-null     int64 \n",
            " 6   Heart Rate                  22 non-null     int64 \n",
            " 7   Respiratory Rate            22 non-null     int64 \n",
            " 8   Oxygen Saturation Level     22 non-null     int64 \n",
            " 9   Chronic Conditions          22 non-null     object\n",
            " 10  Medications                 22 non-null     object\n",
            " 11  Lab Test Results            22 non-null     object\n",
            " 12  Chief Complaint             22 non-null     object\n",
            " 13  Severity                    22 non-null     object\n",
            "dtypes: int64(7), object(7)\n",
            "memory usage: 2.5+ KB\n"
          ]
        }
      ]
    },
    {
      "cell_type": "code",
      "source": [
        "#data preparation\n",
        "data.isnull().sum()"
      ],
      "metadata": {
        "colab": {
          "base_uri": "https://localhost:8080/"
        },
        "id": "uwZxOst0eYZz",
        "outputId": "c58b2800-bd00-4d81-bb81-d215d5d0e2be"
      },
      "execution_count": 4,
      "outputs": [
        {
          "output_type": "execute_result",
          "data": {
            "text/plain": [
              "Age                           0\n",
              "Gender                        0\n",
              "Ethnicity                     0\n",
              "BMI                           0\n",
              "Blood Pressure (systolic)     0\n",
              "Blood Pressure (diastolic)    0\n",
              "Heart Rate                    0\n",
              "Respiratory Rate              0\n",
              "Oxygen Saturation Level       0\n",
              "Chronic Conditions            0\n",
              "Medications                   0\n",
              "Lab Test Results              0\n",
              "Chief Complaint               0\n",
              "Severity                      0\n",
              "dtype: int64"
            ]
          },
          "metadata": {},
          "execution_count": 4
        }
      ]
    },
    {
      "cell_type": "code",
      "source": [
        "data.head()"
      ],
      "metadata": {
        "colab": {
          "base_uri": "https://localhost:8080/",
          "height": 337
        },
        "id": "AKFWJTfWiIPC",
        "outputId": "a3c0fb60-67bc-4434-b493-e1e6051f9b64"
      },
      "execution_count": 5,
      "outputs": [
        {
          "output_type": "execute_result",
          "data": {
            "text/plain": [
              "   Age  Gender  Ethnicity  BMI  Blood Pressure (systolic)  \\\n",
              "0   45    Male  Caucasian   23                        120   \n",
              "1   30  Female   Hispanic   27                        135   \n",
              "2   65    Male    African   32                        150   \n",
              "3   50  Female  Caucasian   29                        140   \n",
              "4   28    Male      Asian   25                        115   \n",
              "\n",
              "   Blood Pressure (diastolic)  Heart Rate  Respiratory Rate  \\\n",
              "0                          80          75                16   \n",
              "1                          90          80                18   \n",
              "2                         100          90                20   \n",
              "3                          95          70                14   \n",
              "4                          75          80                16   \n",
              "\n",
              "   Oxygen Saturation Level Chronic Conditions     Medications  \\\n",
              "0                       98               None            None   \n",
              "1                       95       Hypertension            None   \n",
              "2                       92           Diabetes         Insulin   \n",
              "3                       96               None  Blood thinners   \n",
              "4                       97               None            None   \n",
              "\n",
              "  Lab Test Results      Chief Complaint  Severity  \n",
              "0           Normal           Chest Pain    Severe  \n",
              "1     High Glucose             Headache  Moderate  \n",
              "2  Abnormal Sodium  Shortness of Breath    Severe  \n",
              "3           Normal           Chest Pain  Moderate  \n",
              "4           Normal                Fever      Mild  "
            ],
            "text/html": [
              "\n",
              "  <div id=\"df-6e076235-ff36-4736-a350-e0a700d4f1b8\">\n",
              "    <div class=\"colab-df-container\">\n",
              "      <div>\n",
              "<style scoped>\n",
              "    .dataframe tbody tr th:only-of-type {\n",
              "        vertical-align: middle;\n",
              "    }\n",
              "\n",
              "    .dataframe tbody tr th {\n",
              "        vertical-align: top;\n",
              "    }\n",
              "\n",
              "    .dataframe thead th {\n",
              "        text-align: right;\n",
              "    }\n",
              "</style>\n",
              "<table border=\"1\" class=\"dataframe\">\n",
              "  <thead>\n",
              "    <tr style=\"text-align: right;\">\n",
              "      <th></th>\n",
              "      <th>Age</th>\n",
              "      <th>Gender</th>\n",
              "      <th>Ethnicity</th>\n",
              "      <th>BMI</th>\n",
              "      <th>Blood Pressure (systolic)</th>\n",
              "      <th>Blood Pressure (diastolic)</th>\n",
              "      <th>Heart Rate</th>\n",
              "      <th>Respiratory Rate</th>\n",
              "      <th>Oxygen Saturation Level</th>\n",
              "      <th>Chronic Conditions</th>\n",
              "      <th>Medications</th>\n",
              "      <th>Lab Test Results</th>\n",
              "      <th>Chief Complaint</th>\n",
              "      <th>Severity</th>\n",
              "    </tr>\n",
              "  </thead>\n",
              "  <tbody>\n",
              "    <tr>\n",
              "      <th>0</th>\n",
              "      <td>45</td>\n",
              "      <td>Male</td>\n",
              "      <td>Caucasian</td>\n",
              "      <td>23</td>\n",
              "      <td>120</td>\n",
              "      <td>80</td>\n",
              "      <td>75</td>\n",
              "      <td>16</td>\n",
              "      <td>98</td>\n",
              "      <td>None</td>\n",
              "      <td>None</td>\n",
              "      <td>Normal</td>\n",
              "      <td>Chest Pain</td>\n",
              "      <td>Severe</td>\n",
              "    </tr>\n",
              "    <tr>\n",
              "      <th>1</th>\n",
              "      <td>30</td>\n",
              "      <td>Female</td>\n",
              "      <td>Hispanic</td>\n",
              "      <td>27</td>\n",
              "      <td>135</td>\n",
              "      <td>90</td>\n",
              "      <td>80</td>\n",
              "      <td>18</td>\n",
              "      <td>95</td>\n",
              "      <td>Hypertension</td>\n",
              "      <td>None</td>\n",
              "      <td>High Glucose</td>\n",
              "      <td>Headache</td>\n",
              "      <td>Moderate</td>\n",
              "    </tr>\n",
              "    <tr>\n",
              "      <th>2</th>\n",
              "      <td>65</td>\n",
              "      <td>Male</td>\n",
              "      <td>African</td>\n",
              "      <td>32</td>\n",
              "      <td>150</td>\n",
              "      <td>100</td>\n",
              "      <td>90</td>\n",
              "      <td>20</td>\n",
              "      <td>92</td>\n",
              "      <td>Diabetes</td>\n",
              "      <td>Insulin</td>\n",
              "      <td>Abnormal Sodium</td>\n",
              "      <td>Shortness of Breath</td>\n",
              "      <td>Severe</td>\n",
              "    </tr>\n",
              "    <tr>\n",
              "      <th>3</th>\n",
              "      <td>50</td>\n",
              "      <td>Female</td>\n",
              "      <td>Caucasian</td>\n",
              "      <td>29</td>\n",
              "      <td>140</td>\n",
              "      <td>95</td>\n",
              "      <td>70</td>\n",
              "      <td>14</td>\n",
              "      <td>96</td>\n",
              "      <td>None</td>\n",
              "      <td>Blood thinners</td>\n",
              "      <td>Normal</td>\n",
              "      <td>Chest Pain</td>\n",
              "      <td>Moderate</td>\n",
              "    </tr>\n",
              "    <tr>\n",
              "      <th>4</th>\n",
              "      <td>28</td>\n",
              "      <td>Male</td>\n",
              "      <td>Asian</td>\n",
              "      <td>25</td>\n",
              "      <td>115</td>\n",
              "      <td>75</td>\n",
              "      <td>80</td>\n",
              "      <td>16</td>\n",
              "      <td>97</td>\n",
              "      <td>None</td>\n",
              "      <td>None</td>\n",
              "      <td>Normal</td>\n",
              "      <td>Fever</td>\n",
              "      <td>Mild</td>\n",
              "    </tr>\n",
              "  </tbody>\n",
              "</table>\n",
              "</div>\n",
              "      <button class=\"colab-df-convert\" onclick=\"convertToInteractive('df-6e076235-ff36-4736-a350-e0a700d4f1b8')\"\n",
              "              title=\"Convert this dataframe to an interactive table.\"\n",
              "              style=\"display:none;\">\n",
              "        \n",
              "  <svg xmlns=\"http://www.w3.org/2000/svg\" height=\"24px\"viewBox=\"0 0 24 24\"\n",
              "       width=\"24px\">\n",
              "    <path d=\"M0 0h24v24H0V0z\" fill=\"none\"/>\n",
              "    <path d=\"M18.56 5.44l.94 2.06.94-2.06 2.06-.94-2.06-.94-.94-2.06-.94 2.06-2.06.94zm-11 1L8.5 8.5l.94-2.06 2.06-.94-2.06-.94L8.5 2.5l-.94 2.06-2.06.94zm10 10l.94 2.06.94-2.06 2.06-.94-2.06-.94-.94-2.06-.94 2.06-2.06.94z\"/><path d=\"M17.41 7.96l-1.37-1.37c-.4-.4-.92-.59-1.43-.59-.52 0-1.04.2-1.43.59L10.3 9.45l-7.72 7.72c-.78.78-.78 2.05 0 2.83L4 21.41c.39.39.9.59 1.41.59.51 0 1.02-.2 1.41-.59l7.78-7.78 2.81-2.81c.8-.78.8-2.07 0-2.86zM5.41 20L4 18.59l7.72-7.72 1.47 1.35L5.41 20z\"/>\n",
              "  </svg>\n",
              "      </button>\n",
              "      \n",
              "  <style>\n",
              "    .colab-df-container {\n",
              "      display:flex;\n",
              "      flex-wrap:wrap;\n",
              "      gap: 12px;\n",
              "    }\n",
              "\n",
              "    .colab-df-convert {\n",
              "      background-color: #E8F0FE;\n",
              "      border: none;\n",
              "      border-radius: 50%;\n",
              "      cursor: pointer;\n",
              "      display: none;\n",
              "      fill: #1967D2;\n",
              "      height: 32px;\n",
              "      padding: 0 0 0 0;\n",
              "      width: 32px;\n",
              "    }\n",
              "\n",
              "    .colab-df-convert:hover {\n",
              "      background-color: #E2EBFA;\n",
              "      box-shadow: 0px 1px 2px rgba(60, 64, 67, 0.3), 0px 1px 3px 1px rgba(60, 64, 67, 0.15);\n",
              "      fill: #174EA6;\n",
              "    }\n",
              "\n",
              "    [theme=dark] .colab-df-convert {\n",
              "      background-color: #3B4455;\n",
              "      fill: #D2E3FC;\n",
              "    }\n",
              "\n",
              "    [theme=dark] .colab-df-convert:hover {\n",
              "      background-color: #434B5C;\n",
              "      box-shadow: 0px 1px 3px 1px rgba(0, 0, 0, 0.15);\n",
              "      filter: drop-shadow(0px 1px 2px rgba(0, 0, 0, 0.3));\n",
              "      fill: #FFFFFF;\n",
              "    }\n",
              "  </style>\n",
              "\n",
              "      <script>\n",
              "        const buttonEl =\n",
              "          document.querySelector('#df-6e076235-ff36-4736-a350-e0a700d4f1b8 button.colab-df-convert');\n",
              "        buttonEl.style.display =\n",
              "          google.colab.kernel.accessAllowed ? 'block' : 'none';\n",
              "\n",
              "        async function convertToInteractive(key) {\n",
              "          const element = document.querySelector('#df-6e076235-ff36-4736-a350-e0a700d4f1b8');\n",
              "          const dataTable =\n",
              "            await google.colab.kernel.invokeFunction('convertToInteractive',\n",
              "                                                     [key], {});\n",
              "          if (!dataTable) return;\n",
              "\n",
              "          const docLinkHtml = 'Like what you see? Visit the ' +\n",
              "            '<a target=\"_blank\" href=https://colab.research.google.com/notebooks/data_table.ipynb>data table notebook</a>'\n",
              "            + ' to learn more about interactive tables.';\n",
              "          element.innerHTML = '';\n",
              "          dataTable['output_type'] = 'display_data';\n",
              "          await google.colab.output.renderOutput(dataTable, element);\n",
              "          const docLink = document.createElement('div');\n",
              "          docLink.innerHTML = docLinkHtml;\n",
              "          element.appendChild(docLink);\n",
              "        }\n",
              "      </script>\n",
              "    </div>\n",
              "  </div>\n",
              "  "
            ]
          },
          "metadata": {},
          "execution_count": 5
        }
      ]
    },
    {
      "cell_type": "code",
      "source": [
        "def converter(Severity):\n",
        "    if Severity=='Severe':\n",
        "        return 2\n",
        "    elif Severity=='Moderate':\n",
        "        return 1\n",
        "    elif Severity=='Mild':\n",
        "        return 0\n",
        "\n",
        "data['Severity']=data['Severity'].apply(converter)"
      ],
      "metadata": {
        "id": "J4Wyz1waiK1u"
      },
      "execution_count": 6,
      "outputs": []
    },
    {
      "cell_type": "code",
      "source": [
        "data.head()"
      ],
      "metadata": {
        "colab": {
          "base_uri": "https://localhost:8080/",
          "height": 337
        },
        "id": "MhdNY4eeiOMv",
        "outputId": "50696ac8-6b75-4017-8b33-c09cdf853404"
      },
      "execution_count": 7,
      "outputs": [
        {
          "output_type": "execute_result",
          "data": {
            "text/plain": [
              "   Age  Gender  Ethnicity  BMI  Blood Pressure (systolic)  \\\n",
              "0   45    Male  Caucasian   23                        120   \n",
              "1   30  Female   Hispanic   27                        135   \n",
              "2   65    Male    African   32                        150   \n",
              "3   50  Female  Caucasian   29                        140   \n",
              "4   28    Male      Asian   25                        115   \n",
              "\n",
              "   Blood Pressure (diastolic)  Heart Rate  Respiratory Rate  \\\n",
              "0                          80          75                16   \n",
              "1                          90          80                18   \n",
              "2                         100          90                20   \n",
              "3                          95          70                14   \n",
              "4                          75          80                16   \n",
              "\n",
              "   Oxygen Saturation Level Chronic Conditions     Medications  \\\n",
              "0                       98               None            None   \n",
              "1                       95       Hypertension            None   \n",
              "2                       92           Diabetes         Insulin   \n",
              "3                       96               None  Blood thinners   \n",
              "4                       97               None            None   \n",
              "\n",
              "  Lab Test Results      Chief Complaint  Severity  \n",
              "0           Normal           Chest Pain         2  \n",
              "1     High Glucose             Headache         1  \n",
              "2  Abnormal Sodium  Shortness of Breath         2  \n",
              "3           Normal           Chest Pain         1  \n",
              "4           Normal                Fever         0  "
            ],
            "text/html": [
              "\n",
              "  <div id=\"df-d47b5a6e-73c4-44c9-ba4c-e1a208e2b748\">\n",
              "    <div class=\"colab-df-container\">\n",
              "      <div>\n",
              "<style scoped>\n",
              "    .dataframe tbody tr th:only-of-type {\n",
              "        vertical-align: middle;\n",
              "    }\n",
              "\n",
              "    .dataframe tbody tr th {\n",
              "        vertical-align: top;\n",
              "    }\n",
              "\n",
              "    .dataframe thead th {\n",
              "        text-align: right;\n",
              "    }\n",
              "</style>\n",
              "<table border=\"1\" class=\"dataframe\">\n",
              "  <thead>\n",
              "    <tr style=\"text-align: right;\">\n",
              "      <th></th>\n",
              "      <th>Age</th>\n",
              "      <th>Gender</th>\n",
              "      <th>Ethnicity</th>\n",
              "      <th>BMI</th>\n",
              "      <th>Blood Pressure (systolic)</th>\n",
              "      <th>Blood Pressure (diastolic)</th>\n",
              "      <th>Heart Rate</th>\n",
              "      <th>Respiratory Rate</th>\n",
              "      <th>Oxygen Saturation Level</th>\n",
              "      <th>Chronic Conditions</th>\n",
              "      <th>Medications</th>\n",
              "      <th>Lab Test Results</th>\n",
              "      <th>Chief Complaint</th>\n",
              "      <th>Severity</th>\n",
              "    </tr>\n",
              "  </thead>\n",
              "  <tbody>\n",
              "    <tr>\n",
              "      <th>0</th>\n",
              "      <td>45</td>\n",
              "      <td>Male</td>\n",
              "      <td>Caucasian</td>\n",
              "      <td>23</td>\n",
              "      <td>120</td>\n",
              "      <td>80</td>\n",
              "      <td>75</td>\n",
              "      <td>16</td>\n",
              "      <td>98</td>\n",
              "      <td>None</td>\n",
              "      <td>None</td>\n",
              "      <td>Normal</td>\n",
              "      <td>Chest Pain</td>\n",
              "      <td>2</td>\n",
              "    </tr>\n",
              "    <tr>\n",
              "      <th>1</th>\n",
              "      <td>30</td>\n",
              "      <td>Female</td>\n",
              "      <td>Hispanic</td>\n",
              "      <td>27</td>\n",
              "      <td>135</td>\n",
              "      <td>90</td>\n",
              "      <td>80</td>\n",
              "      <td>18</td>\n",
              "      <td>95</td>\n",
              "      <td>Hypertension</td>\n",
              "      <td>None</td>\n",
              "      <td>High Glucose</td>\n",
              "      <td>Headache</td>\n",
              "      <td>1</td>\n",
              "    </tr>\n",
              "    <tr>\n",
              "      <th>2</th>\n",
              "      <td>65</td>\n",
              "      <td>Male</td>\n",
              "      <td>African</td>\n",
              "      <td>32</td>\n",
              "      <td>150</td>\n",
              "      <td>100</td>\n",
              "      <td>90</td>\n",
              "      <td>20</td>\n",
              "      <td>92</td>\n",
              "      <td>Diabetes</td>\n",
              "      <td>Insulin</td>\n",
              "      <td>Abnormal Sodium</td>\n",
              "      <td>Shortness of Breath</td>\n",
              "      <td>2</td>\n",
              "    </tr>\n",
              "    <tr>\n",
              "      <th>3</th>\n",
              "      <td>50</td>\n",
              "      <td>Female</td>\n",
              "      <td>Caucasian</td>\n",
              "      <td>29</td>\n",
              "      <td>140</td>\n",
              "      <td>95</td>\n",
              "      <td>70</td>\n",
              "      <td>14</td>\n",
              "      <td>96</td>\n",
              "      <td>None</td>\n",
              "      <td>Blood thinners</td>\n",
              "      <td>Normal</td>\n",
              "      <td>Chest Pain</td>\n",
              "      <td>1</td>\n",
              "    </tr>\n",
              "    <tr>\n",
              "      <th>4</th>\n",
              "      <td>28</td>\n",
              "      <td>Male</td>\n",
              "      <td>Asian</td>\n",
              "      <td>25</td>\n",
              "      <td>115</td>\n",
              "      <td>75</td>\n",
              "      <td>80</td>\n",
              "      <td>16</td>\n",
              "      <td>97</td>\n",
              "      <td>None</td>\n",
              "      <td>None</td>\n",
              "      <td>Normal</td>\n",
              "      <td>Fever</td>\n",
              "      <td>0</td>\n",
              "    </tr>\n",
              "  </tbody>\n",
              "</table>\n",
              "</div>\n",
              "      <button class=\"colab-df-convert\" onclick=\"convertToInteractive('df-d47b5a6e-73c4-44c9-ba4c-e1a208e2b748')\"\n",
              "              title=\"Convert this dataframe to an interactive table.\"\n",
              "              style=\"display:none;\">\n",
              "        \n",
              "  <svg xmlns=\"http://www.w3.org/2000/svg\" height=\"24px\"viewBox=\"0 0 24 24\"\n",
              "       width=\"24px\">\n",
              "    <path d=\"M0 0h24v24H0V0z\" fill=\"none\"/>\n",
              "    <path d=\"M18.56 5.44l.94 2.06.94-2.06 2.06-.94-2.06-.94-.94-2.06-.94 2.06-2.06.94zm-11 1L8.5 8.5l.94-2.06 2.06-.94-2.06-.94L8.5 2.5l-.94 2.06-2.06.94zm10 10l.94 2.06.94-2.06 2.06-.94-2.06-.94-.94-2.06-.94 2.06-2.06.94z\"/><path d=\"M17.41 7.96l-1.37-1.37c-.4-.4-.92-.59-1.43-.59-.52 0-1.04.2-1.43.59L10.3 9.45l-7.72 7.72c-.78.78-.78 2.05 0 2.83L4 21.41c.39.39.9.59 1.41.59.51 0 1.02-.2 1.41-.59l7.78-7.78 2.81-2.81c.8-.78.8-2.07 0-2.86zM5.41 20L4 18.59l7.72-7.72 1.47 1.35L5.41 20z\"/>\n",
              "  </svg>\n",
              "      </button>\n",
              "      \n",
              "  <style>\n",
              "    .colab-df-container {\n",
              "      display:flex;\n",
              "      flex-wrap:wrap;\n",
              "      gap: 12px;\n",
              "    }\n",
              "\n",
              "    .colab-df-convert {\n",
              "      background-color: #E8F0FE;\n",
              "      border: none;\n",
              "      border-radius: 50%;\n",
              "      cursor: pointer;\n",
              "      display: none;\n",
              "      fill: #1967D2;\n",
              "      height: 32px;\n",
              "      padding: 0 0 0 0;\n",
              "      width: 32px;\n",
              "    }\n",
              "\n",
              "    .colab-df-convert:hover {\n",
              "      background-color: #E2EBFA;\n",
              "      box-shadow: 0px 1px 2px rgba(60, 64, 67, 0.3), 0px 1px 3px 1px rgba(60, 64, 67, 0.15);\n",
              "      fill: #174EA6;\n",
              "    }\n",
              "\n",
              "    [theme=dark] .colab-df-convert {\n",
              "      background-color: #3B4455;\n",
              "      fill: #D2E3FC;\n",
              "    }\n",
              "\n",
              "    [theme=dark] .colab-df-convert:hover {\n",
              "      background-color: #434B5C;\n",
              "      box-shadow: 0px 1px 3px 1px rgba(0, 0, 0, 0.15);\n",
              "      filter: drop-shadow(0px 1px 2px rgba(0, 0, 0, 0.3));\n",
              "      fill: #FFFFFF;\n",
              "    }\n",
              "  </style>\n",
              "\n",
              "      <script>\n",
              "        const buttonEl =\n",
              "          document.querySelector('#df-d47b5a6e-73c4-44c9-ba4c-e1a208e2b748 button.colab-df-convert');\n",
              "        buttonEl.style.display =\n",
              "          google.colab.kernel.accessAllowed ? 'block' : 'none';\n",
              "\n",
              "        async function convertToInteractive(key) {\n",
              "          const element = document.querySelector('#df-d47b5a6e-73c4-44c9-ba4c-e1a208e2b748');\n",
              "          const dataTable =\n",
              "            await google.colab.kernel.invokeFunction('convertToInteractive',\n",
              "                                                     [key], {});\n",
              "          if (!dataTable) return;\n",
              "\n",
              "          const docLinkHtml = 'Like what you see? Visit the ' +\n",
              "            '<a target=\"_blank\" href=https://colab.research.google.com/notebooks/data_table.ipynb>data table notebook</a>'\n",
              "            + ' to learn more about interactive tables.';\n",
              "          element.innerHTML = '';\n",
              "          dataTable['output_type'] = 'display_data';\n",
              "          await google.colab.output.renderOutput(dataTable, element);\n",
              "          const docLink = document.createElement('div');\n",
              "          docLink.innerHTML = docLinkHtml;\n",
              "          element.appendChild(docLink);\n",
              "        }\n",
              "      </script>\n",
              "    </div>\n",
              "  </div>\n",
              "  "
            ]
          },
          "metadata": {},
          "execution_count": 7
        }
      ]
    },
    {
      "cell_type": "code",
      "source": [
        "data.info()"
      ],
      "metadata": {
        "colab": {
          "base_uri": "https://localhost:8080/"
        },
        "id": "2r5nHQqviRYX",
        "outputId": "f7c2799c-1921-4686-d96b-2178f2d44e2f"
      },
      "execution_count": 8,
      "outputs": [
        {
          "output_type": "stream",
          "name": "stdout",
          "text": [
            "<class 'pandas.core.frame.DataFrame'>\n",
            "RangeIndex: 22 entries, 0 to 21\n",
            "Data columns (total 14 columns):\n",
            " #   Column                      Non-Null Count  Dtype \n",
            "---  ------                      --------------  ----- \n",
            " 0   Age                         22 non-null     int64 \n",
            " 1   Gender                      22 non-null     object\n",
            " 2   Ethnicity                   22 non-null     object\n",
            " 3   BMI                         22 non-null     int64 \n",
            " 4   Blood Pressure (systolic)   22 non-null     int64 \n",
            " 5   Blood Pressure (diastolic)  22 non-null     int64 \n",
            " 6   Heart Rate                  22 non-null     int64 \n",
            " 7   Respiratory Rate            22 non-null     int64 \n",
            " 8   Oxygen Saturation Level     22 non-null     int64 \n",
            " 9   Chronic Conditions          22 non-null     object\n",
            " 10  Medications                 22 non-null     object\n",
            " 11  Lab Test Results            22 non-null     object\n",
            " 12  Chief Complaint             22 non-null     object\n",
            " 13  Severity                    22 non-null     int64 \n",
            "dtypes: int64(8), object(6)\n",
            "memory usage: 2.5+ KB\n"
          ]
        }
      ]
    },
    {
      "cell_type": "code",
      "source": [
        "df=data.select_dtypes(exclude=['object'])\n",
        "print(df)"
      ],
      "metadata": {
        "colab": {
          "base_uri": "https://localhost:8080/"
        },
        "id": "fMOL_x-miUaf",
        "outputId": "bf5b09f5-da6b-4aa5-82f7-a2af79cc53ef"
      },
      "execution_count": 9,
      "outputs": [
        {
          "output_type": "stream",
          "name": "stdout",
          "text": [
            "    Age  BMI  Blood Pressure (systolic)  Blood Pressure (diastolic)  \\\n",
            "0    45   23                        120                          80   \n",
            "1    30   27                        135                          90   \n",
            "2    65   32                        150                         100   \n",
            "3    50   29                        140                          95   \n",
            "4    28   25                        115                          75   \n",
            "5    60   35                        170                         110   \n",
            "6    40   26                        130                          85   \n",
            "7    35   24                        118                          78   \n",
            "8    55   31                        142                          95   \n",
            "9    75   26                        130                          85   \n",
            "10   48   33                        160                         100   \n",
            "11   27   22                        110                          72   \n",
            "12   58   30                        135                          90   \n",
            "13   32   22                        120                          80   \n",
            "14   45   28                        136                          92   \n",
            "15   58   34                        150                         100   \n",
            "16   72   26                        128                          84   \n",
            "17   41   30                        142                          94   \n",
            "18   45   24                        120                          80   \n",
            "19   65   28                        140                          90   \n",
            "20   30   32                        130                          85   \n",
            "21   58   26                        125                          80   \n",
            "\n",
            "    Heart Rate  Respiratory Rate  Oxygen Saturation Level  Severity  \n",
            "0           75                16                       98         2  \n",
            "1           80                18                       95         1  \n",
            "2           90                20                       92         2  \n",
            "3           70                14                       96         1  \n",
            "4           80                16                       97         0  \n",
            "5           85                18                       90         2  \n",
            "6           75                16                       98         2  \n",
            "7           70                14                       96         0  \n",
            "8           80                16                       94         1  \n",
            "9           80                20                       92         2  \n",
            "10          90                20                       92         2  \n",
            "11          75                14                       96         0  \n",
            "12          75                16                       94         1  \n",
            "13          75                16                       98         0  \n",
            "14          80                18                       95         2  \n",
            "15          70                20                       90         1  \n",
            "16          85                14                       97         0  \n",
            "17          77                16                       96         1  \n",
            "18          70                16                       98         0  \n",
            "19          80                20                       95         1  \n",
            "20          85                18                       96         2  \n",
            "21          75                16                       97         0  \n"
          ]
        }
      ]
    },
    {
      "cell_type": "code",
      "source": [
        "df.info()"
      ],
      "metadata": {
        "colab": {
          "base_uri": "https://localhost:8080/"
        },
        "id": "zALzEmEDiY0J",
        "outputId": "5fa3a244-a4d1-44b7-c3e0-198f87b1c502"
      },
      "execution_count": 10,
      "outputs": [
        {
          "output_type": "stream",
          "name": "stdout",
          "text": [
            "<class 'pandas.core.frame.DataFrame'>\n",
            "RangeIndex: 22 entries, 0 to 21\n",
            "Data columns (total 8 columns):\n",
            " #   Column                      Non-Null Count  Dtype\n",
            "---  ------                      --------------  -----\n",
            " 0   Age                         22 non-null     int64\n",
            " 1   BMI                         22 non-null     int64\n",
            " 2   Blood Pressure (systolic)   22 non-null     int64\n",
            " 3   Blood Pressure (diastolic)  22 non-null     int64\n",
            " 4   Heart Rate                  22 non-null     int64\n",
            " 5   Respiratory Rate            22 non-null     int64\n",
            " 6   Oxygen Saturation Level     22 non-null     int64\n",
            " 7   Severity                    22 non-null     int64\n",
            "dtypes: int64(8)\n",
            "memory usage: 1.5 KB\n"
          ]
        }
      ]
    },
    {
      "cell_type": "code",
      "source": [
        "#importing library\n",
        "from sklearn.model_selection import train_test_split"
      ],
      "metadata": {
        "id": "aazL50JUidph"
      },
      "execution_count": 11,
      "outputs": []
    },
    {
      "cell_type": "code",
      "source": [
        "#splitting train and test data\n",
        "x=df.drop('Severity', axis='columns')\n",
        "y=df.Severity\n",
        "X_train,X_test,Y_train,Y_test=train_test_split(x,y,test_size=0.3,random_state=10)"
      ],
      "metadata": {
        "id": "LDRBeKjwigRd"
      },
      "execution_count": 12,
      "outputs": []
    },
    {
      "cell_type": "code",
      "source": [
        "from sklearn.tree import DecisionTreeClassifier\n",
        "clf=DecisionTreeClassifier()"
      ],
      "metadata": {
        "id": "s_P2QR9kinPO"
      },
      "execution_count": 13,
      "outputs": []
    },
    {
      "cell_type": "code",
      "source": [
        "#fitting train data\n",
        "clf.fit(X_train,Y_train)"
      ],
      "metadata": {
        "colab": {
          "base_uri": "https://localhost:8080/",
          "height": 74
        },
        "id": "KNTKwtuViqhL",
        "outputId": "ce812fb1-4277-48f8-eddf-4f478270580d"
      },
      "execution_count": 14,
      "outputs": [
        {
          "output_type": "execute_result",
          "data": {
            "text/plain": [
              "DecisionTreeClassifier()"
            ],
            "text/html": [
              "<style>#sk-container-id-1 {color: black;background-color: white;}#sk-container-id-1 pre{padding: 0;}#sk-container-id-1 div.sk-toggleable {background-color: white;}#sk-container-id-1 label.sk-toggleable__label {cursor: pointer;display: block;width: 100%;margin-bottom: 0;padding: 0.3em;box-sizing: border-box;text-align: center;}#sk-container-id-1 label.sk-toggleable__label-arrow:before {content: \"▸\";float: left;margin-right: 0.25em;color: #696969;}#sk-container-id-1 label.sk-toggleable__label-arrow:hover:before {color: black;}#sk-container-id-1 div.sk-estimator:hover label.sk-toggleable__label-arrow:before {color: black;}#sk-container-id-1 div.sk-toggleable__content {max-height: 0;max-width: 0;overflow: hidden;text-align: left;background-color: #f0f8ff;}#sk-container-id-1 div.sk-toggleable__content pre {margin: 0.2em;color: black;border-radius: 0.25em;background-color: #f0f8ff;}#sk-container-id-1 input.sk-toggleable__control:checked~div.sk-toggleable__content {max-height: 200px;max-width: 100%;overflow: auto;}#sk-container-id-1 input.sk-toggleable__control:checked~label.sk-toggleable__label-arrow:before {content: \"▾\";}#sk-container-id-1 div.sk-estimator input.sk-toggleable__control:checked~label.sk-toggleable__label {background-color: #d4ebff;}#sk-container-id-1 div.sk-label input.sk-toggleable__control:checked~label.sk-toggleable__label {background-color: #d4ebff;}#sk-container-id-1 input.sk-hidden--visually {border: 0;clip: rect(1px 1px 1px 1px);clip: rect(1px, 1px, 1px, 1px);height: 1px;margin: -1px;overflow: hidden;padding: 0;position: absolute;width: 1px;}#sk-container-id-1 div.sk-estimator {font-family: monospace;background-color: #f0f8ff;border: 1px dotted black;border-radius: 0.25em;box-sizing: border-box;margin-bottom: 0.5em;}#sk-container-id-1 div.sk-estimator:hover {background-color: #d4ebff;}#sk-container-id-1 div.sk-parallel-item::after {content: \"\";width: 100%;border-bottom: 1px solid gray;flex-grow: 1;}#sk-container-id-1 div.sk-label:hover label.sk-toggleable__label {background-color: #d4ebff;}#sk-container-id-1 div.sk-serial::before {content: \"\";position: absolute;border-left: 1px solid gray;box-sizing: border-box;top: 0;bottom: 0;left: 50%;z-index: 0;}#sk-container-id-1 div.sk-serial {display: flex;flex-direction: column;align-items: center;background-color: white;padding-right: 0.2em;padding-left: 0.2em;position: relative;}#sk-container-id-1 div.sk-item {position: relative;z-index: 1;}#sk-container-id-1 div.sk-parallel {display: flex;align-items: stretch;justify-content: center;background-color: white;position: relative;}#sk-container-id-1 div.sk-item::before, #sk-container-id-1 div.sk-parallel-item::before {content: \"\";position: absolute;border-left: 1px solid gray;box-sizing: border-box;top: 0;bottom: 0;left: 50%;z-index: -1;}#sk-container-id-1 div.sk-parallel-item {display: flex;flex-direction: column;z-index: 1;position: relative;background-color: white;}#sk-container-id-1 div.sk-parallel-item:first-child::after {align-self: flex-end;width: 50%;}#sk-container-id-1 div.sk-parallel-item:last-child::after {align-self: flex-start;width: 50%;}#sk-container-id-1 div.sk-parallel-item:only-child::after {width: 0;}#sk-container-id-1 div.sk-dashed-wrapped {border: 1px dashed gray;margin: 0 0.4em 0.5em 0.4em;box-sizing: border-box;padding-bottom: 0.4em;background-color: white;}#sk-container-id-1 div.sk-label label {font-family: monospace;font-weight: bold;display: inline-block;line-height: 1.2em;}#sk-container-id-1 div.sk-label-container {text-align: center;}#sk-container-id-1 div.sk-container {/* jupyter's `normalize.less` sets `[hidden] { display: none; }` but bootstrap.min.css set `[hidden] { display: none !important; }` so we also need the `!important` here to be able to override the default hidden behavior on the sphinx rendered scikit-learn.org. See: https://github.com/scikit-learn/scikit-learn/issues/21755 */display: inline-block !important;position: relative;}#sk-container-id-1 div.sk-text-repr-fallback {display: none;}</style><div id=\"sk-container-id-1\" class=\"sk-top-container\"><div class=\"sk-text-repr-fallback\"><pre>DecisionTreeClassifier()</pre><b>In a Jupyter environment, please rerun this cell to show the HTML representation or trust the notebook. <br />On GitHub, the HTML representation is unable to render, please try loading this page with nbviewer.org.</b></div><div class=\"sk-container\" hidden><div class=\"sk-item\"><div class=\"sk-estimator sk-toggleable\"><input class=\"sk-toggleable__control sk-hidden--visually\" id=\"sk-estimator-id-1\" type=\"checkbox\" checked><label for=\"sk-estimator-id-1\" class=\"sk-toggleable__label sk-toggleable__label-arrow\">DecisionTreeClassifier</label><div class=\"sk-toggleable__content\"><pre>DecisionTreeClassifier()</pre></div></div></div></div></div>"
            ]
          },
          "metadata": {},
          "execution_count": 14
        }
      ]
    },
    {
      "cell_type": "code",
      "source": [
        "#prediction\n",
        "pred=clf.predict(X_test)"
      ],
      "metadata": {
        "id": "FS1c6cnDiuN2"
      },
      "execution_count": 15,
      "outputs": []
    },
    {
      "cell_type": "code",
      "source": [
        "from sklearn.metrics import classification_report, confusion_matrix\n",
        "print(classification_report(Y_test,pred))\n",
        "print(confusion_matrix(Y_test,pred))"
      ],
      "metadata": {
        "colab": {
          "base_uri": "https://localhost:8080/"
        },
        "id": "AYN3LdSGixhp",
        "outputId": "129a540e-f625-4946-a723-749524e1d1f5"
      },
      "execution_count": 16,
      "outputs": [
        {
          "output_type": "stream",
          "name": "stdout",
          "text": [
            "              precision    recall  f1-score   support\n",
            "\n",
            "           0       1.00      1.00      1.00         2\n",
            "           1       0.50      1.00      0.67         2\n",
            "           2       1.00      0.33      0.50         3\n",
            "\n",
            "    accuracy                           0.71         7\n",
            "   macro avg       0.83      0.78      0.72         7\n",
            "weighted avg       0.86      0.71      0.69         7\n",
            "\n",
            "[[2 0 0]\n",
            " [0 2 0]\n",
            " [0 2 1]]\n"
          ]
        }
      ]
    },
    {
      "cell_type": "code",
      "source": [
        "from sklearn import tree\n",
        "tree.plot_tree(clf,feature_names=X_train.columns)"
      ],
      "metadata": {
        "colab": {
          "base_uri": "https://localhost:8080/",
          "height": 597
        },
        "id": "eF8SLmupi15_",
        "outputId": "0836f546-1fa4-4b93-b4c1-9508c77db12f"
      },
      "execution_count": 17,
      "outputs": [
        {
          "output_type": "execute_result",
          "data": {
            "text/plain": [
              "[Text(0.5, 0.875, 'Blood Pressure (diastolic) <= 84.5\\ngini = 0.667\\nsamples = 15\\nvalue = [5, 5, 5]'),\n",
              " Text(0.3, 0.625, 'BMI <= 23.5\\ngini = 0.278\\nsamples = 6\\nvalue = [5, 0, 1]'),\n",
              " Text(0.2, 0.375, 'Age <= 38.5\\ngini = 0.5\\nsamples = 2\\nvalue = [1, 0, 1]'),\n",
              " Text(0.1, 0.125, 'gini = 0.0\\nsamples = 1\\nvalue = [1, 0, 0]'),\n",
              " Text(0.3, 0.125, 'gini = 0.0\\nsamples = 1\\nvalue = [0, 0, 1]'),\n",
              " Text(0.4, 0.375, 'gini = 0.0\\nsamples = 4\\nvalue = [4, 0, 0]'),\n",
              " Text(0.7, 0.625, 'Blood Pressure (diastolic) <= 87.5\\ngini = 0.494\\nsamples = 9\\nvalue = [0, 5, 4]'),\n",
              " Text(0.6, 0.375, 'gini = 0.0\\nsamples = 3\\nvalue = [0, 0, 3]'),\n",
              " Text(0.8, 0.375, 'Blood Pressure (systolic) <= 155.0\\ngini = 0.278\\nsamples = 6\\nvalue = [0, 5, 1]'),\n",
              " Text(0.7, 0.125, 'gini = 0.0\\nsamples = 5\\nvalue = [0, 5, 0]'),\n",
              " Text(0.9, 0.125, 'gini = 0.0\\nsamples = 1\\nvalue = [0, 0, 1]')]"
            ]
          },
          "metadata": {},
          "execution_count": 17
        },
        {
          "output_type": "display_data",
          "data": {
            "text/plain": [
              "<Figure size 640x480 with 1 Axes>"
            ],
            "image/png": "[encoded data removed]"
          },
          "metadata": {}
        }
      ]
    },
    {
      "cell_type": "code",
      "source": [],
      "metadata": {
        "id": "6qtEhWFEi5Rr"
      },
      "execution_count": null,
      "outputs": []
    }
  ]
}