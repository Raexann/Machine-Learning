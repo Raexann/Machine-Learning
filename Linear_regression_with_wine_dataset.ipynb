{
  "nbformat": 4,
  "nbformat_minor": 0,
  "metadata": {
    "colab": {
      "provenance": [],
      "authorship_tag": "ABX9TyP9NfPB/iJRlDg9A0pXVd0H",
      "include_colab_link": true
    },
    "kernelspec": {
      "name": "python3",
      "display_name": "Python 3"
    },
    "language_info": {
      "name": "python"
    }
  },
  "cells": [
    {
      "cell_type": "markdown",
      "metadata": {
        "id": "view-in-github",
        "colab_type": "text"
      },
      "source": [
        "<a href=\"https://colab.research.google.com/github/Raexann/Machine-Learning/blob/main/Linear_regression_with_wine_dataset.ipynb\" target=\"_parent\"><img src=\"https://colab.research.google.com/assets/colab-badge.svg\" alt=\"Open In Colab\"/></a>"
      ]
    },
    {
      "cell_type": "code",
      "execution_count": 1,
      "metadata": {
        "id": "-Mbth6-mjPGZ"
      },
      "outputs": [],
      "source": [
        "import pandas as pd\n",
        "import numpy as np\n",
        "from sklearn import linear_model\n",
        "import matplotlib.pyplot as plt"
      ]
    },
    {
      "cell_type": "code",
      "source": [
        "#loading data\n",
        "data=pd.read_csv(\"/content/wine_classification.csv\")"
      ],
      "metadata": {
        "id": "JsJVPGuCjVS3"
      },
      "execution_count": 3,
      "outputs": []
    },
    {
      "cell_type": "code",
      "source": [
        "data.head()"
      ],
      "metadata": {
        "colab": {
          "base_uri": "https://localhost:8080/",
          "height": 270
        },
        "id": "87AIxojgjdb1",
        "outputId": "21e9e7f3-f028-45aa-d275-19781061250c"
      },
      "execution_count": 4,
      "outputs": [
        {
          "output_type": "execute_result",
          "data": {
            "text/plain": [
              "   fixedAcidity  volatileAcidity  citricAcid  residualSugar  chlorides  \\\n",
              "0      6.945513         0.272992    0.403691      13.920038   0.051043   \n",
              "1      6.995486         0.190402    0.310377      19.186267   0.044147   \n",
              "2      5.978831         0.140616    0.251393       4.402912   0.028109   \n",
              "3      6.688603         0.371501    0.507942      11.862843   0.044918   \n",
              "4      7.224421         0.201252    0.220918       1.612570   0.044984   \n",
              "\n",
              "   freeSulfurDioxide  totalSulfurDioxide   density        pH  sulphates  \\\n",
              "0          66.077662          245.612070  0.998768  3.161269   0.579738   \n",
              "1          39.852796          175.908433  1.000245  2.932994   0.523323   \n",
              "2          32.093612          151.569367  0.995412  3.488070   0.511582   \n",
              "3          67.531739          155.608503  0.998803  3.174425   0.439773   \n",
              "4          16.817987          121.629623  0.995424  3.373870   0.528637   \n",
              "\n",
              "     alcohol  quality   type  \n",
              "0   9.504513        4  White  \n",
              "1   9.112224        3  White  \n",
              "2  11.077951        4  White  \n",
              "3   8.853944        5  White  \n",
              "4  10.366208        5  White  "
            ],
            "text/html": [
              "\n",
              "  <div id=\"df-29d3896a-4445-4749-861a-e79787bbf16e\">\n",
              "    <div class=\"colab-df-container\">\n",
              "      <div>\n",
              "<style scoped>\n",
              "    .dataframe tbody tr th:only-of-type {\n",
              "        vertical-align: middle;\n",
              "    }\n",
              "\n",
              "    .dataframe tbody tr th {\n",
              "        vertical-align: top;\n",
              "    }\n",
              "\n",
              "    .dataframe thead th {\n",
              "        text-align: right;\n",
              "    }\n",
              "</style>\n",
              "<table border=\"1\" class=\"dataframe\">\n",
              "  <thead>\n",
              "    <tr style=\"text-align: right;\">\n",
              "      <th></th>\n",
              "      <th>fixedAcidity</th>\n",
              "      <th>volatileAcidity</th>\n",
              "      <th>citricAcid</th>\n",
              "      <th>residualSugar</th>\n",
              "      <th>chlorides</th>\n",
              "      <th>freeSulfurDioxide</th>\n",
              "      <th>totalSulfurDioxide</th>\n",
              "      <th>density</th>\n",
              "      <th>pH</th>\n",
              "      <th>sulphates</th>\n",
              "      <th>alcohol</th>\n",
              "      <th>quality</th>\n",
              "      <th>type</th>\n",
              "    </tr>\n",
              "  </thead>\n",
              "  <tbody>\n",
              "    <tr>\n",
              "      <th>0</th>\n",
              "      <td>6.945513</td>\n",
              "      <td>0.272992</td>\n",
              "      <td>0.403691</td>\n",
              "      <td>13.920038</td>\n",
              "      <td>0.051043</td>\n",
              "      <td>66.077662</td>\n",
              "      <td>245.612070</td>\n",
              "      <td>0.998768</td>\n",
              "      <td>3.161269</td>\n",
              "      <td>0.579738</td>\n",
              "      <td>9.504513</td>\n",
              "      <td>4</td>\n",
              "      <td>White</td>\n",
              "    </tr>\n",
              "    <tr>\n",
              "      <th>1</th>\n",
              "      <td>6.995486</td>\n",
              "      <td>0.190402</td>\n",
              "      <td>0.310377</td>\n",
              "      <td>19.186267</td>\n",
              "      <td>0.044147</td>\n",
              "      <td>39.852796</td>\n",
              "      <td>175.908433</td>\n",
              "      <td>1.000245</td>\n",
              "      <td>2.932994</td>\n",
              "      <td>0.523323</td>\n",
              "      <td>9.112224</td>\n",
              "      <td>3</td>\n",
              "      <td>White</td>\n",
              "    </tr>\n",
              "    <tr>\n",
              "      <th>2</th>\n",
              "      <td>5.978831</td>\n",
              "      <td>0.140616</td>\n",
              "      <td>0.251393</td>\n",
              "      <td>4.402912</td>\n",
              "      <td>0.028109</td>\n",
              "      <td>32.093612</td>\n",
              "      <td>151.569367</td>\n",
              "      <td>0.995412</td>\n",
              "      <td>3.488070</td>\n",
              "      <td>0.511582</td>\n",
              "      <td>11.077951</td>\n",
              "      <td>4</td>\n",
              "      <td>White</td>\n",
              "    </tr>\n",
              "    <tr>\n",
              "      <th>3</th>\n",
              "      <td>6.688603</td>\n",
              "      <td>0.371501</td>\n",
              "      <td>0.507942</td>\n",
              "      <td>11.862843</td>\n",
              "      <td>0.044918</td>\n",
              "      <td>67.531739</td>\n",
              "      <td>155.608503</td>\n",
              "      <td>0.998803</td>\n",
              "      <td>3.174425</td>\n",
              "      <td>0.439773</td>\n",
              "      <td>8.853944</td>\n",
              "      <td>5</td>\n",
              "      <td>White</td>\n",
              "    </tr>\n",
              "    <tr>\n",
              "      <th>4</th>\n",
              "      <td>7.224421</td>\n",
              "      <td>0.201252</td>\n",
              "      <td>0.220918</td>\n",
              "      <td>1.612570</td>\n",
              "      <td>0.044984</td>\n",
              "      <td>16.817987</td>\n",
              "      <td>121.629623</td>\n",
              "      <td>0.995424</td>\n",
              "      <td>3.373870</td>\n",
              "      <td>0.528637</td>\n",
              "      <td>10.366208</td>\n",
              "      <td>5</td>\n",
              "      <td>White</td>\n",
              "    </tr>\n",
              "  </tbody>\n",
              "</table>\n",
              "</div>\n",
              "      <button class=\"colab-df-convert\" onclick=\"convertToInteractive('df-29d3896a-4445-4749-861a-e79787bbf16e')\"\n",
              "              title=\"Convert this dataframe to an interactive table.\"\n",
              "              style=\"display:none;\">\n",
              "        \n",
              "  <svg xmlns=\"http://www.w3.org/2000/svg\" height=\"24px\"viewBox=\"0 0 24 24\"\n",
              "       width=\"24px\">\n",
              "    <path d=\"M0 0h24v24H0V0z\" fill=\"none\"/>\n",
              "    <path d=\"M18.56 5.44l.94 2.06.94-2.06 2.06-.94-2.06-.94-.94-2.06-.94 2.06-2.06.94zm-11 1L8.5 8.5l.94-2.06 2.06-.94-2.06-.94L8.5 2.5l-.94 2.06-2.06.94zm10 10l.94 2.06.94-2.06 2.06-.94-2.06-.94-.94-2.06-.94 2.06-2.06.94z\"/><path d=\"M17.41 7.96l-1.37-1.37c-.4-.4-.92-.59-1.43-.59-.52 0-1.04.2-1.43.59L10.3 9.45l-7.72 7.72c-.78.78-.78 2.05 0 2.83L4 21.41c.39.39.9.59 1.41.59.51 0 1.02-.2 1.41-.59l7.78-7.78 2.81-2.81c.8-.78.8-2.07 0-2.86zM5.41 20L4 18.59l7.72-7.72 1.47 1.35L5.41 20z\"/>\n",
              "  </svg>\n",
              "      </button>\n",
              "      \n",
              "  <style>\n",
              "    .colab-df-container {\n",
              "      display:flex;\n",
              "      flex-wrap:wrap;\n",
              "      gap: 12px;\n",
              "    }\n",
              "\n",
              "    .colab-df-convert {\n",
              "      background-color: #E8F0FE;\n",
              "      border: none;\n",
              "      border-radius: 50%;\n",
              "      cursor: pointer;\n",
              "      display: none;\n",
              "      fill: #1967D2;\n",
              "      height: 32px;\n",
              "      padding: 0 0 0 0;\n",
              "      width: 32px;\n",
              "    }\n",
              "\n",
              "    .colab-df-convert:hover {\n",
              "      background-color: #E2EBFA;\n",
              "      box-shadow: 0px 1px 2px rgba(60, 64, 67, 0.3), 0px 1px 3px 1px rgba(60, 64, 67, 0.15);\n",
              "      fill: #174EA6;\n",
              "    }\n",
              "\n",
              "    [theme=dark] .colab-df-convert {\n",
              "      background-color: #3B4455;\n",
              "      fill: #D2E3FC;\n",
              "    }\n",
              "\n",
              "    [theme=dark] .colab-df-convert:hover {\n",
              "      background-color: #434B5C;\n",
              "      box-shadow: 0px 1px 3px 1px rgba(0, 0, 0, 0.15);\n",
              "      filter: drop-shadow(0px 1px 2px rgba(0, 0, 0, 0.3));\n",
              "      fill: #FFFFFF;\n",
              "    }\n",
              "  </style>\n",
              "\n",
              "      <script>\n",
              "        const buttonEl =\n",
              "          document.querySelector('#df-29d3896a-4445-4749-861a-e79787bbf16e button.colab-df-convert');\n",
              "        buttonEl.style.display =\n",
              "          google.colab.kernel.accessAllowed ? 'block' : 'none';\n",
              "\n",
              "        async function convertToInteractive(key) {\n",
              "          const element = document.querySelector('#df-29d3896a-4445-4749-861a-e79787bbf16e');\n",
              "          const dataTable =\n",
              "            await google.colab.kernel.invokeFunction('convertToInteractive',\n",
              "                                                     [key], {});\n",
              "          if (!dataTable) return;\n",
              "\n",
              "          const docLinkHtml = 'Like what you see? Visit the ' +\n",
              "            '<a target=\"_blank\" href=https://colab.research.google.com/notebooks/data_table.ipynb>data table notebook</a>'\n",
              "            + ' to learn more about interactive tables.';\n",
              "          element.innerHTML = '';\n",
              "          dataTable['output_type'] = 'display_data';\n",
              "          await google.colab.output.renderOutput(dataTable, element);\n",
              "          const docLink = document.createElement('div');\n",
              "          docLink.innerHTML = docLinkHtml;\n",
              "          element.appendChild(docLink);\n",
              "        }\n",
              "      </script>\n",
              "    </div>\n",
              "  </div>\n",
              "  "
            ]
          },
          "metadata": {},
          "execution_count": 4
        }
      ]
    },
    {
      "cell_type": "code",
      "source": [
        "data.info()"
      ],
      "metadata": {
        "colab": {
          "base_uri": "https://localhost:8080/"
        },
        "id": "xVIZdiepjnpT",
        "outputId": "d7cff54b-54de-4950-b1e1-a9270bd566e8"
      },
      "execution_count": 5,
      "outputs": [
        {
          "output_type": "stream",
          "name": "stdout",
          "text": [
            "<class 'pandas.core.frame.DataFrame'>\n",
            "RangeIndex: 5000 entries, 0 to 4999\n",
            "Data columns (total 13 columns):\n",
            " #   Column              Non-Null Count  Dtype  \n",
            "---  ------              --------------  -----  \n",
            " 0   fixedAcidity        5000 non-null   float64\n",
            " 1   volatileAcidity     5000 non-null   float64\n",
            " 2   citricAcid          5000 non-null   float64\n",
            " 3   residualSugar       5000 non-null   float64\n",
            " 4   chlorides           5000 non-null   float64\n",
            " 5   freeSulfurDioxide   5000 non-null   float64\n",
            " 6   totalSulfurDioxide  5000 non-null   float64\n",
            " 7   density             5000 non-null   float64\n",
            " 8   pH                  5000 non-null   float64\n",
            " 9   sulphates           5000 non-null   float64\n",
            " 10  alcohol             5000 non-null   float64\n",
            " 11  quality             5000 non-null   int64  \n",
            " 12  type                5000 non-null   object \n",
            "dtypes: float64(11), int64(1), object(1)\n",
            "memory usage: 507.9+ KB\n"
          ]
        }
      ]
    },
    {
      "cell_type": "code",
      "source": [
        "def converter(quality):\n",
        "  if quality=='White':\n",
        "    return 0\n",
        "  if quality=='Red':\n",
        "    return 1\n",
        "  \n",
        "data['type']=data['type'].apply(converter)"
      ],
      "metadata": {
        "id": "pOdF2jizjp_5"
      },
      "execution_count": 6,
      "outputs": []
    },
    {
      "cell_type": "code",
      "source": [
        "data.head()"
      ],
      "metadata": {
        "colab": {
          "base_uri": "https://localhost:8080/",
          "height": 270
        },
        "id": "xDA6eUnOjtGp",
        "outputId": "5d8cc8d6-7131-43b4-e5ea-3ff9ec52592d"
      },
      "execution_count": 7,
      "outputs": [
        {
          "output_type": "execute_result",
          "data": {
            "text/plain": [
              "   fixedAcidity  volatileAcidity  citricAcid  residualSugar  chlorides  \\\n",
              "0      6.945513         0.272992    0.403691      13.920038   0.051043   \n",
              "1      6.995486         0.190402    0.310377      19.186267   0.044147   \n",
              "2      5.978831         0.140616    0.251393       4.402912   0.028109   \n",
              "3      6.688603         0.371501    0.507942      11.862843   0.044918   \n",
              "4      7.224421         0.201252    0.220918       1.612570   0.044984   \n",
              "\n",
              "   freeSulfurDioxide  totalSulfurDioxide   density        pH  sulphates  \\\n",
              "0          66.077662          245.612070  0.998768  3.161269   0.579738   \n",
              "1          39.852796          175.908433  1.000245  2.932994   0.523323   \n",
              "2          32.093612          151.569367  0.995412  3.488070   0.511582   \n",
              "3          67.531739          155.608503  0.998803  3.174425   0.439773   \n",
              "4          16.817987          121.629623  0.995424  3.373870   0.528637   \n",
              "\n",
              "     alcohol  quality  type  \n",
              "0   9.504513        4     0  \n",
              "1   9.112224        3     0  \n",
              "2  11.077951        4     0  \n",
              "3   8.853944        5     0  \n",
              "4  10.366208        5     0  "
            ],
            "text/html": [
              "\n",
              "  <div id=\"df-5f4f26d9-cb69-4d55-9c72-6698a6bf512c\">\n",
              "    <div class=\"colab-df-container\">\n",
              "      <div>\n",
              "<style scoped>\n",
              "    .dataframe tbody tr th:only-of-type {\n",
              "        vertical-align: middle;\n",
              "    }\n",
              "\n",
              "    .dataframe tbody tr th {\n",
              "        vertical-align: top;\n",
              "    }\n",
              "\n",
              "    .dataframe thead th {\n",
              "        text-align: right;\n",
              "    }\n",
              "</style>\n",
              "<table border=\"1\" class=\"dataframe\">\n",
              "  <thead>\n",
              "    <tr style=\"text-align: right;\">\n",
              "      <th></th>\n",
              "      <th>fixedAcidity</th>\n",
              "      <th>volatileAcidity</th>\n",
              "      <th>citricAcid</th>\n",
              "      <th>residualSugar</th>\n",
              "      <th>chlorides</th>\n",
              "      <th>freeSulfurDioxide</th>\n",
              "      <th>totalSulfurDioxide</th>\n",
              "      <th>density</th>\n",
              "      <th>pH</th>\n",
              "      <th>sulphates</th>\n",
              "      <th>alcohol</th>\n",
              "      <th>quality</th>\n",
              "      <th>type</th>\n",
              "    </tr>\n",
              "  </thead>\n",
              "  <tbody>\n",
              "    <tr>\n",
              "      <th>0</th>\n",
              "      <td>6.945513</td>\n",
              "      <td>0.272992</td>\n",
              "      <td>0.403691</td>\n",
              "      <td>13.920038</td>\n",
              "      <td>0.051043</td>\n",
              "      <td>66.077662</td>\n",
              "      <td>245.612070</td>\n",
              "      <td>0.998768</td>\n",
              "      <td>3.161269</td>\n",
              "      <td>0.579738</td>\n",
              "      <td>9.504513</td>\n",
              "      <td>4</td>\n",
              "      <td>0</td>\n",
              "    </tr>\n",
              "    <tr>\n",
              "      <th>1</th>\n",
              "      <td>6.995486</td>\n",
              "      <td>0.190402</td>\n",
              "      <td>0.310377</td>\n",
              "      <td>19.186267</td>\n",
              "      <td>0.044147</td>\n",
              "      <td>39.852796</td>\n",
              "      <td>175.908433</td>\n",
              "      <td>1.000245</td>\n",
              "      <td>2.932994</td>\n",
              "      <td>0.523323</td>\n",
              "      <td>9.112224</td>\n",
              "      <td>3</td>\n",
              "      <td>0</td>\n",
              "    </tr>\n",
              "    <tr>\n",
              "      <th>2</th>\n",
              "      <td>5.978831</td>\n",
              "      <td>0.140616</td>\n",
              "      <td>0.251393</td>\n",
              "      <td>4.402912</td>\n",
              "      <td>0.028109</td>\n",
              "      <td>32.093612</td>\n",
              "      <td>151.569367</td>\n",
              "      <td>0.995412</td>\n",
              "      <td>3.488070</td>\n",
              "      <td>0.511582</td>\n",
              "      <td>11.077951</td>\n",
              "      <td>4</td>\n",
              "      <td>0</td>\n",
              "    </tr>\n",
              "    <tr>\n",
              "      <th>3</th>\n",
              "      <td>6.688603</td>\n",
              "      <td>0.371501</td>\n",
              "      <td>0.507942</td>\n",
              "      <td>11.862843</td>\n",
              "      <td>0.044918</td>\n",
              "      <td>67.531739</td>\n",
              "      <td>155.608503</td>\n",
              "      <td>0.998803</td>\n",
              "      <td>3.174425</td>\n",
              "      <td>0.439773</td>\n",
              "      <td>8.853944</td>\n",
              "      <td>5</td>\n",
              "      <td>0</td>\n",
              "    </tr>\n",
              "    <tr>\n",
              "      <th>4</th>\n",
              "      <td>7.224421</td>\n",
              "      <td>0.201252</td>\n",
              "      <td>0.220918</td>\n",
              "      <td>1.612570</td>\n",
              "      <td>0.044984</td>\n",
              "      <td>16.817987</td>\n",
              "      <td>121.629623</td>\n",
              "      <td>0.995424</td>\n",
              "      <td>3.373870</td>\n",
              "      <td>0.528637</td>\n",
              "      <td>10.366208</td>\n",
              "      <td>5</td>\n",
              "      <td>0</td>\n",
              "    </tr>\n",
              "  </tbody>\n",
              "</table>\n",
              "</div>\n",
              "      <button class=\"colab-df-convert\" onclick=\"convertToInteractive('df-5f4f26d9-cb69-4d55-9c72-6698a6bf512c')\"\n",
              "              title=\"Convert this dataframe to an interactive table.\"\n",
              "              style=\"display:none;\">\n",
              "        \n",
              "  <svg xmlns=\"http://www.w3.org/2000/svg\" height=\"24px\"viewBox=\"0 0 24 24\"\n",
              "       width=\"24px\">\n",
              "    <path d=\"M0 0h24v24H0V0z\" fill=\"none\"/>\n",
              "    <path d=\"M18.56 5.44l.94 2.06.94-2.06 2.06-.94-2.06-.94-.94-2.06-.94 2.06-2.06.94zm-11 1L8.5 8.5l.94-2.06 2.06-.94-2.06-.94L8.5 2.5l-.94 2.06-2.06.94zm10 10l.94 2.06.94-2.06 2.06-.94-2.06-.94-.94-2.06-.94 2.06-2.06.94z\"/><path d=\"M17.41 7.96l-1.37-1.37c-.4-.4-.92-.59-1.43-.59-.52 0-1.04.2-1.43.59L10.3 9.45l-7.72 7.72c-.78.78-.78 2.05 0 2.83L4 21.41c.39.39.9.59 1.41.59.51 0 1.02-.2 1.41-.59l7.78-7.78 2.81-2.81c.8-.78.8-2.07 0-2.86zM5.41 20L4 18.59l7.72-7.72 1.47 1.35L5.41 20z\"/>\n",
              "  </svg>\n",
              "      </button>\n",
              "      \n",
              "  <style>\n",
              "    .colab-df-container {\n",
              "      display:flex;\n",
              "      flex-wrap:wrap;\n",
              "      gap: 12px;\n",
              "    }\n",
              "\n",
              "    .colab-df-convert {\n",
              "      background-color: #E8F0FE;\n",
              "      border: none;\n",
              "      border-radius: 50%;\n",
              "      cursor: pointer;\n",
              "      display: none;\n",
              "      fill: #1967D2;\n",
              "      height: 32px;\n",
              "      padding: 0 0 0 0;\n",
              "      width: 32px;\n",
              "    }\n",
              "\n",
              "    .colab-df-convert:hover {\n",
              "      background-color: #E2EBFA;\n",
              "      box-shadow: 0px 1px 2px rgba(60, 64, 67, 0.3), 0px 1px 3px 1px rgba(60, 64, 67, 0.15);\n",
              "      fill: #174EA6;\n",
              "    }\n",
              "\n",
              "    [theme=dark] .colab-df-convert {\n",
              "      background-color: #3B4455;\n",
              "      fill: #D2E3FC;\n",
              "    }\n",
              "\n",
              "    [theme=dark] .colab-df-convert:hover {\n",
              "      background-color: #434B5C;\n",
              "      box-shadow: 0px 1px 3px 1px rgba(0, 0, 0, 0.15);\n",
              "      filter: drop-shadow(0px 1px 2px rgba(0, 0, 0, 0.3));\n",
              "      fill: #FFFFFF;\n",
              "    }\n",
              "  </style>\n",
              "\n",
              "      <script>\n",
              "        const buttonEl =\n",
              "          document.querySelector('#df-5f4f26d9-cb69-4d55-9c72-6698a6bf512c button.colab-df-convert');\n",
              "        buttonEl.style.display =\n",
              "          google.colab.kernel.accessAllowed ? 'block' : 'none';\n",
              "\n",
              "        async function convertToInteractive(key) {\n",
              "          const element = document.querySelector('#df-5f4f26d9-cb69-4d55-9c72-6698a6bf512c');\n",
              "          const dataTable =\n",
              "            await google.colab.kernel.invokeFunction('convertToInteractive',\n",
              "                                                     [key], {});\n",
              "          if (!dataTable) return;\n",
              "\n",
              "          const docLinkHtml = 'Like what you see? Visit the ' +\n",
              "            '<a target=\"_blank\" href=https://colab.research.google.com/notebooks/data_table.ipynb>data table notebook</a>'\n",
              "            + ' to learn more about interactive tables.';\n",
              "          element.innerHTML = '';\n",
              "          dataTable['output_type'] = 'display_data';\n",
              "          await google.colab.output.renderOutput(dataTable, element);\n",
              "          const docLink = document.createElement('div');\n",
              "          docLink.innerHTML = docLinkHtml;\n",
              "          element.appendChild(docLink);\n",
              "        }\n",
              "      </script>\n",
              "    </div>\n",
              "  </div>\n",
              "  "
            ]
          },
          "metadata": {},
          "execution_count": 7
        }
      ]
    },
    {
      "cell_type": "code",
      "source": [
        "#splitting the data\n",
        "x=data.drop('type', axis='columns')\n",
        "y=data.type"
      ],
      "metadata": {
        "id": "ZZif21xejwP1"
      },
      "execution_count": 8,
      "outputs": []
    },
    {
      "cell_type": "code",
      "source": [
        "#fitting\n",
        "reg = linear_model.LinearRegression()\n",
        "reg.fit(x,y)"
      ],
      "metadata": {
        "colab": {
          "base_uri": "https://localhost:8080/",
          "height": 74
        },
        "id": "KtekOKk2jzby",
        "outputId": "1c6014d2-484e-4bfa-b3c4-48e119a538dc"
      },
      "execution_count": 9,
      "outputs": [
        {
          "output_type": "execute_result",
          "data": {
            "text/plain": [
              "LinearRegression()"
            ],
            "text/html": [
              "<style>#sk-container-id-1 {color: black;background-color: white;}#sk-container-id-1 pre{padding: 0;}#sk-container-id-1 div.sk-toggleable {background-color: white;}#sk-container-id-1 label.sk-toggleable__label {cursor: pointer;display: block;width: 100%;margin-bottom: 0;padding: 0.3em;box-sizing: border-box;text-align: center;}#sk-container-id-1 label.sk-toggleable__label-arrow:before {content: \"▸\";float: left;margin-right: 0.25em;color: #696969;}#sk-container-id-1 label.sk-toggleable__label-arrow:hover:before {color: black;}#sk-container-id-1 div.sk-estimator:hover label.sk-toggleable__label-arrow:before {color: black;}#sk-container-id-1 div.sk-toggleable__content {max-height: 0;max-width: 0;overflow: hidden;text-align: left;background-color: #f0f8ff;}#sk-container-id-1 div.sk-toggleable__content pre {margin: 0.2em;color: black;border-radius: 0.25em;background-color: #f0f8ff;}#sk-container-id-1 input.sk-toggleable__control:checked~div.sk-toggleable__content {max-height: 200px;max-width: 100%;overflow: auto;}#sk-container-id-1 input.sk-toggleable__control:checked~label.sk-toggleable__label-arrow:before {content: \"▾\";}#sk-container-id-1 div.sk-estimator input.sk-toggleable__control:checked~label.sk-toggleable__label {background-color: #d4ebff;}#sk-container-id-1 div.sk-label input.sk-toggleable__control:checked~label.sk-toggleable__label {background-color: #d4ebff;}#sk-container-id-1 input.sk-hidden--visually {border: 0;clip: rect(1px 1px 1px 1px);clip: rect(1px, 1px, 1px, 1px);height: 1px;margin: -1px;overflow: hidden;padding: 0;position: absolute;width: 1px;}#sk-container-id-1 div.sk-estimator {font-family: monospace;background-color: #f0f8ff;border: 1px dotted black;border-radius: 0.25em;box-sizing: border-box;margin-bottom: 0.5em;}#sk-container-id-1 div.sk-estimator:hover {background-color: #d4ebff;}#sk-container-id-1 div.sk-parallel-item::after {content: \"\";width: 100%;border-bottom: 1px solid gray;flex-grow: 1;}#sk-container-id-1 div.sk-label:hover label.sk-toggleable__label {background-color: #d4ebff;}#sk-container-id-1 div.sk-serial::before {content: \"\";position: absolute;border-left: 1px solid gray;box-sizing: border-box;top: 0;bottom: 0;left: 50%;z-index: 0;}#sk-container-id-1 div.sk-serial {display: flex;flex-direction: column;align-items: center;background-color: white;padding-right: 0.2em;padding-left: 0.2em;position: relative;}#sk-container-id-1 div.sk-item {position: relative;z-index: 1;}#sk-container-id-1 div.sk-parallel {display: flex;align-items: stretch;justify-content: center;background-color: white;position: relative;}#sk-container-id-1 div.sk-item::before, #sk-container-id-1 div.sk-parallel-item::before {content: \"\";position: absolute;border-left: 1px solid gray;box-sizing: border-box;top: 0;bottom: 0;left: 50%;z-index: -1;}#sk-container-id-1 div.sk-parallel-item {display: flex;flex-direction: column;z-index: 1;position: relative;background-color: white;}#sk-container-id-1 div.sk-parallel-item:first-child::after {align-self: flex-end;width: 50%;}#sk-container-id-1 div.sk-parallel-item:last-child::after {align-self: flex-start;width: 50%;}#sk-container-id-1 div.sk-parallel-item:only-child::after {width: 0;}#sk-container-id-1 div.sk-dashed-wrapped {border: 1px dashed gray;margin: 0 0.4em 0.5em 0.4em;box-sizing: border-box;padding-bottom: 0.4em;background-color: white;}#sk-container-id-1 div.sk-label label {font-family: monospace;font-weight: bold;display: inline-block;line-height: 1.2em;}#sk-container-id-1 div.sk-label-container {text-align: center;}#sk-container-id-1 div.sk-container {/* jupyter's `normalize.less` sets `[hidden] { display: none; }` but bootstrap.min.css set `[hidden] { display: none !important; }` so we also need the `!important` here to be able to override the default hidden behavior on the sphinx rendered scikit-learn.org. See: https://github.com/scikit-learn/scikit-learn/issues/21755 */display: inline-block !important;position: relative;}#sk-container-id-1 div.sk-text-repr-fallback {display: none;}</style><div id=\"sk-container-id-1\" class=\"sk-top-container\"><div class=\"sk-text-repr-fallback\"><pre>LinearRegression()</pre><b>In a Jupyter environment, please rerun this cell to show the HTML representation or trust the notebook. <br />On GitHub, the HTML representation is unable to render, please try loading this page with nbviewer.org.</b></div><div class=\"sk-container\" hidden><div class=\"sk-item\"><div class=\"sk-estimator sk-toggleable\"><input class=\"sk-toggleable__control sk-hidden--visually\" id=\"sk-estimator-id-1\" type=\"checkbox\" checked><label for=\"sk-estimator-id-1\" class=\"sk-toggleable__label sk-toggleable__label-arrow\">LinearRegression</label><div class=\"sk-toggleable__content\"><pre>LinearRegression()</pre></div></div></div></div></div>"
            ]
          },
          "metadata": {},
          "execution_count": 9
        }
      ]
    },
    {
      "cell_type": "code",
      "source": [
        "#accuracy\n",
        "reg.score(x, y)"
      ],
      "metadata": {
        "colab": {
          "base_uri": "https://localhost:8080/"
        },
        "id": "wDWU5FWsj1pK",
        "outputId": "eafab5a8-9763-46ec-df7b-85d444e0dc32"
      },
      "execution_count": 10,
      "outputs": [
        {
          "output_type": "execute_result",
          "data": {
            "text/plain": [
              "0.8255768591450745"
            ]
          },
          "metadata": {},
          "execution_count": 10
        }
      ]
    },
    {
      "cell_type": "code",
      "source": [
        "reg.coef_"
      ],
      "metadata": {
        "colab": {
          "base_uri": "https://localhost:8080/"
        },
        "id": "X7LIE-g4j4es",
        "outputId": "327c79ec-3e13-487f-b81d-bdd7191a815d"
      },
      "execution_count": 11,
      "outputs": [
        {
          "output_type": "execute_result",
          "data": {
            "text/plain": [
              "array([ 1.70124787e-02,  5.60864938e-01, -1.23713475e-01, -3.18749238e-02,\n",
              "        1.12665755e+00,  1.98094998e-03, -2.54935965e-03,  7.99539599e+01,\n",
              "        9.28292709e-02,  2.04435376e-01,  5.39290731e-02, -2.13668565e-02])"
            ]
          },
          "metadata": {},
          "execution_count": 11
        }
      ]
    },
    {
      "cell_type": "code",
      "source": [
        "reg.intercept_"
      ],
      "metadata": {
        "colab": {
          "base_uri": "https://localhost:8080/"
        },
        "id": "GssNxHRKj6eU",
        "outputId": "dfa8ef39-7844-44ce-84f1-2b425ebe3e65"
      },
      "execution_count": 12,
      "outputs": [
        {
          "output_type": "execute_result",
          "data": {
            "text/plain": [
              "-80.19896446179972"
            ]
          },
          "metadata": {},
          "execution_count": 12
        }
      ]
    },
    {
      "cell_type": "code",
      "source": [],
      "metadata": {
        "id": "6lbrn1Mhj840"
      },
      "execution_count": null,
      "outputs": []
    }
  ]
}